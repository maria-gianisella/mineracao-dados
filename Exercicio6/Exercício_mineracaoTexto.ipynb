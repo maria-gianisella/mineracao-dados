{
 "cells": [
  {
   "cell_type": "markdown",
   "metadata": {},
   "source": [
    "## Lista 7 - Exercício de Mineração de texto"
   ]
  },
  {
   "cell_type": "markdown",
   "metadata": {},
   "source": [
    "Aluna: Maria Eduarda Guedes Pinto Gianisella\n",
    "\n",
    "RA: 2375087"
   ]
  },
  {
   "cell_type": "markdown",
   "metadata": {},
   "source": [
    "#### Questão 1 \n",
    "\n",
    "Use o dataset \"tweets_trump.csv\", que contém todos os tweets do D. Trump e faça o que é pedido abaixo.\n",
    "\n",
    "a) Utilizando o texto dos tweets identifique 5 tópicos latentes com o LDA, com um preprocessamento básico -- remoção de urls, remoção de pontuação, stemming e conversão para minúsculo. \n",
    "\n",
    "b) Avalie os tópicos encontrados. Algum preprocessamento a mais poderia ser útil para a produção de um melhor resultado?\n"
   ]
  },
  {
   "cell_type": "code",
   "execution_count": 1,
   "metadata": {},
   "outputs": [
    {
     "name": "stdout",
     "output_type": "stream",
     "text": [
      "                    id                                               text  \\\n",
      "0    98454970654916608  Republicans and Democrats have both created ou...   \n",
      "1  1234653427789070336  I was thrilled to be back in the Great city of...   \n",
      "2  1218010753434820614  RT @CBS_Herridge: READ: Letter to surveillance...   \n",
      "3  1304875170860015617  The Unsolicited Mail In Ballot Scam is a major...   \n",
      "4  1218159531554897920  RT @MZHemingway: Very friendly telling of even...   \n",
      "\n",
      "  isRetweet isDeleted              device  favorites  retweets  \\\n",
      "0         f         f           TweetDeck         49       255   \n",
      "1         f         f  Twitter for iPhone      73748     17404   \n",
      "2         t         f  Twitter for iPhone          0      7396   \n",
      "3         f         f  Twitter for iPhone      80527     23502   \n",
      "4         t         f  Twitter for iPhone          0      9081   \n",
      "\n",
      "                  date isFlagged  \n",
      "0  2011-08-02 18:07:48         f  \n",
      "1  2020-03-03 01:34:50         f  \n",
      "2  2020-01-17 03:22:47         f  \n",
      "3  2020-09-12 20:10:58         f  \n",
      "4  2020-01-17 13:13:59         f  \n"
     ]
    }
   ],
   "source": [
    "import pandas as pd\n",
    "\n",
    "df = pd.read_csv('tweets_trump.csv')\n",
    "print(df.head())"
   ]
  },
  {
   "cell_type": "code",
   "execution_count": 5,
   "metadata": {},
   "outputs": [
    {
     "name": "stderr",
     "output_type": "stream",
     "text": [
      "[nltk_data] Downloading package punkt to\n",
      "[nltk_data]     C:\\Users\\DELL\\AppData\\Roaming\\nltk_data...\n",
      "[nltk_data]   Package punkt is already up-to-date!\n",
      "[nltk_data] Downloading package stopwords to\n",
      "[nltk_data]     C:\\Users\\DELL\\AppData\\Roaming\\nltk_data...\n",
      "[nltk_data]   Package stopwords is already up-to-date!\n"
     ]
    },
    {
     "name": "stdout",
     "output_type": "stream",
     "text": [
      "0       [republican, democrat, creat, econom, problem]\n",
      "1    [thrill, back, great, citi, charlott, north, c...\n",
      "2    [rt, cbs_herridg, read, letter, surveil, court...\n",
      "3    [unsolicit, mail, ballot, scam, major, threat,...\n",
      "4    [rt, mzhemingway, friendli, tell, event, comey...\n",
      "Name: processed_tweet, dtype: object\n"
     ]
    }
   ],
   "source": [
    "import re\n",
    "from nltk.corpus import stopwords\n",
    "from nltk.stem.porter import PorterStemmer\n",
    "from nltk.tokenize import word_tokenize\n",
    "from gensim.utils import simple_preprocess\n",
    "from gensim import corpora\n",
    "\n",
    "import nltk\n",
    "nltk.download('punkt')\n",
    "nltk.download('stopwords')\n",
    "\n",
    "def preprocess(text):\n",
    "    # Remover URLs\n",
    "    text = re.sub(r'http\\S+|www\\S+|https\\S+', '', text, flags=re.MULTILINE)\n",
    "    # Remover pontuação\n",
    "    text = re.sub(r'\\@w+|\\#', '', text)\n",
    "    text = re.sub(r'[^\\w\\s]', '', text)\n",
    "    # Converter para minúsculas\n",
    "    text = text.lower()\n",
    "    # Tokenização\n",
    "    tokens = word_tokenize(text)\n",
    "    # Remover stopwords\n",
    "    tokens = [word for word in tokens if word not in stopwords.words('english')]\n",
    "    # Stemming\n",
    "    stemmer = PorterStemmer()\n",
    "    tokens = [stemmer.stem(word) for word in tokens]\n",
    "    return tokens\n",
    "\n",
    "df['processed_tweet'] = df['text'].apply(preprocess)\n",
    "\n",
    "print(df['processed_tweet'].head())\n"
   ]
  },
  {
   "cell_type": "code",
   "execution_count": 6,
   "metadata": {},
   "outputs": [
    {
     "name": "stdout",
     "output_type": "stream",
     "text": [
      "(0, '0.079*\"realdonaldtrump\" + 0.077*\"rt\" + 0.050*\"thank\" + 0.038*\"presid\" + 0.027*\"trump\"')\n",
      "(1, '0.017*\"news\" + 0.014*\"fake\" + 0.012*\"media\" + 0.010*\"report\" + 0.009*\"amp\"')\n",
      "(2, '0.048*\"great\" + 0.014*\"new\" + 0.010*\"big\" + 0.009*\"look\" + 0.009*\"amp\"')\n",
      "(3, '0.039*\"rt\" + 0.032*\"trump\" + 0.008*\"true\" + 0.007*\"donald\" + 0.006*\"via\"')\n",
      "(4, '0.014*\"amp\" + 0.013*\"countri\" + 0.012*\"border\" + 0.012*\"democrat\" + 0.011*\"peopl\"')\n"
     ]
    }
   ],
   "source": [
    "from gensim.corpora import Dictionary\n",
    "from gensim.models import LdaModel\n",
    "\n",
    "texts = df['processed_tweet'].tolist()\n",
    "dictionary = Dictionary(texts)\n",
    "corpus = [dictionary.doc2bow(text) for text in texts]\n",
    "\n",
    "lda_model = LdaModel(corpus, num_topics=5, id2word=dictionary, passes=15)\n",
    "\n",
    "topics = lda_model.print_topics(num_words=5)\n",
    "for topic in topics:\n",
    "    print(topic)\n"
   ]
  },
  {
   "cell_type": "code",
   "execution_count": 7,
   "metadata": {},
   "outputs": [
    {
     "name": "stdout",
     "output_type": "stream",
     "text": [
      "Tópico 0: 0.079*\"realdonaldtrump\" + 0.077*\"rt\" + 0.050*\"thank\" + 0.038*\"presid\" + 0.027*\"trump\" + 0.013*\"whitehous\" + 0.010*\"great\" + 0.010*\"honor\" + 0.009*\"run\" + 0.009*\"today\"\n",
      "Tópico 1: 0.017*\"news\" + 0.014*\"fake\" + 0.012*\"media\" + 0.010*\"report\" + 0.009*\"amp\" + 0.009*\"hillari\" + 0.008*\"never\" + 0.007*\"collus\" + 0.007*\"foxnew\" + 0.007*\"rate\"\n",
      "Tópico 2: 0.048*\"great\" + 0.014*\"new\" + 0.010*\"big\" + 0.009*\"look\" + 0.009*\"amp\" + 0.009*\"job\" + 0.009*\"make\" + 0.008*\"hunt\" + 0.008*\"witch\" + 0.008*\"north\"\n",
      "Tópico 3: 0.039*\"rt\" + 0.032*\"trump\" + 0.008*\"true\" + 0.007*\"donald\" + 0.006*\"via\" + 0.006*\"comey\" + 0.006*\"amp\" + 0.005*\"new\" + 0.005*\"2016\" + 0.004*\"like\"\n",
      "Tópico 4: 0.014*\"amp\" + 0.013*\"countri\" + 0.012*\"border\" + 0.012*\"democrat\" + 0.011*\"peopl\" + 0.011*\"us\" + 0.009*\"state\" + 0.008*\"want\" + 0.008*\"presid\" + 0.008*\"get\"\n"
     ]
    }
   ],
   "source": [
    "for idx, topic in lda_model.print_topics(-1):\n",
    "    print(f'Tópico {idx}: {topic}')\n"
   ]
  },
  {
   "cell_type": "markdown",
   "metadata": {},
   "source": [
    "## Interpretação dos resultados\n",
    "\n",
    "### Tópico 0\n",
    "**Palavras-chave:** \"realdonaldtrump\", \"rt\", \"thank\", \"presid\", \"trump\", \"whitehous\", \"great\", \"honor\", \"run\", \"today\"\n",
    "- Provavelmente está relacionado a menções do perfil de Donald Trump, agradecimentos e atividades presidenciais. A palavra \"rt\" mostra que muitos tweets incluem retweets.\n",
    "### Tópico 1\n",
    "**Palavras-chave:** \"news\", \"fake\", \"media\", \"report\", \"amp\", \"hillari\", \"never\", \"collus\", \"foxnew\", \"rate\"\n",
    "- Tem relação com a mídia, fake news e Hillary Clinton.\n",
    "### Tópico 2\n",
    "**Palavras-chave:** \"great\", \"new\", \"big\", \"look\", \"amp\", \"job\", \"make\", \"hunt\", \"witch\", \"north\"\n",
    "- Parece ser sobre situações e feitos importantes da sua presidência, por conta das palavras \"great\", \"job\", \"make\".\n",
    "### Tópico 3\n",
    "**Palavras-chave:** \"rt\", \"trump\", \"true\", \"donald\", \"via\", \"comey\", \"amp\", \"new\", \"2016\", \"like\"\n",
    "- Referências a retweets e ao Trump. Também menciona o ex-diretor do FBI James Comey e eventos de 2016. Provavelmente está relacionado as eleições de 2016 e as investigações de fake news que foram feitas.\n",
    "### Tópico 4\n",
    "**Palavras-chave:** \"amp\", \"countri\", \"border\", \"democrat\", \"peopl\", \"us\", \"state\", \"want\", \"presid\", \"get\"\n",
    "- Este tópico parece focar em política, fronteiras e questões democráticas.\n",
    "\n",
    "### Melhorias\n",
    "Para produzir melhores resultados, algumas melhorias adicionais no pré-processamento podem ser úteis, como:\n",
    "\n",
    "- **Remover Palavras de Alta Frequência:** A palavra \"amp\" é comum nos textos e deve ser removida. Palavras como \"rt\" (retweet) e \"realdonaldtrump\" (nome de usuário do Donal Trump) são muito frequentes e podem ser removidas para melhor clareza.\n",
    "- **Remover Palavras Muito Comuns e Pouco Informativas:** Palavras extremamente comuns, como \"thank\", \"today\", \"new\", podem ser removidas para focar mais nos termos específicos e relevantes."
   ]
  },
  {
   "cell_type": "markdown",
   "metadata": {},
   "source": [
    "## Questão 2\n",
    "\n",
    "Use o dataset \"tweets_trump.csv\" e responda:\n",
    "\n",
    "a) Qual o sentimento dos 5 tweets com maior número de retweets?\n",
    "\n",
    "b) Faça uma análise do sentimento geral de todos os tweets. Para isso, visualize a distribuição de polaridade para embasar a sua resposta."
   ]
  },
  {
   "cell_type": "code",
   "execution_count": 11,
   "metadata": {},
   "outputs": [
    {
     "name": "stdout",
     "output_type": "stream",
     "text": [
      "Index(['id', 'text', 'isRetweet', 'isDeleted', 'device', 'favorites',\n",
      "       'retweets', 'date', 'isFlagged'],\n",
      "      dtype='object')\n",
      "                    id                                               text  \\\n",
      "0    98454970654916608  Republicans and Democrats have both created ou...   \n",
      "1  1234653427789070336  I was thrilled to be back in the Great city of...   \n",
      "2  1218010753434820614  RT @CBS_Herridge: READ: Letter to surveillance...   \n",
      "3  1304875170860015617  The Unsolicited Mail In Ballot Scam is a major...   \n",
      "4  1218159531554897920  RT @MZHemingway: Very friendly telling of even...   \n",
      "\n",
      "  isRetweet isDeleted              device  favorites  retweets  \\\n",
      "0         f         f           TweetDeck         49       255   \n",
      "1         f         f  Twitter for iPhone      73748     17404   \n",
      "2         t         f  Twitter for iPhone          0      7396   \n",
      "3         f         f  Twitter for iPhone      80527     23502   \n",
      "4         t         f  Twitter for iPhone          0      9081   \n",
      "\n",
      "                  date isFlagged  \n",
      "0  2011-08-02 18:07:48         f  \n",
      "1  2020-03-03 01:34:50         f  \n",
      "2  2020-01-17 03:22:47         f  \n",
      "3  2020-09-12 20:10:58         f  \n",
      "4  2020-01-17 13:13:59         f  \n"
     ]
    }
   ],
   "source": [
    "df = pd.read_csv('tweets_trump.csv')\n",
    "print(df.columns)\n",
    "print(df.head())"
   ]
  },
  {
   "cell_type": "code",
   "execution_count": 12,
   "metadata": {},
   "outputs": [
    {
     "name": "stdout",
     "output_type": "stream",
     "text": [
      "Sentimento dos 5 tweets com maior número de retweets:\n",
      "                                                    text  retweets  sentiment\n",
      "11759  Tonight, @FLOTUS and I tested positive for COV...    408866   0.284091\n",
      "35620         #FraudNewsCNN #FNN https://t.co/WYUnHjjUjg    293109   0.000000\n",
      "39347                 TODAY WE MAKE AMERICA GREAT AGAIN!    281289   1.000000\n",
      "29598  Are you allowed to impeach a president for gro...    237674   0.000000\n",
      "9080        RT @SpaceX: Liftoff! https://t.co/DRBfdUM7JA    235250   0.000000\n"
     ]
    }
   ],
   "source": [
    "from textblob import TextBlob\n",
    "\n",
    "# Identificar os 5 tweets com maior número de retweets\n",
    "top_retweets = df.nlargest(5, 'retweets')\n",
    "\n",
    "# Analisar o sentimento dos 5 tweets com maior número de retweets\n",
    "top_retweets['sentiment'] = top_retweets['text'].apply(lambda tweet: TextBlob(tweet).sentiment.polarity)\n",
    "print(\"Sentimento dos 5 tweets com maior número de retweets:\")\n",
    "print(top_retweets[['text', 'retweets', 'sentiment']])\n"
   ]
  },
  {
   "cell_type": "markdown",
   "metadata": {},
   "source": [
    "**Tweet:** \"Tonight, @FLOTUS and I tested positive for COVID-19. We will begin our quarantine and recovery process immediately. We will get through this TOGETHER!\"\n",
    "- Retweets: 408,866\n",
    "- Sentimento: 0.284091 (Moderadamente positivo)\n",
    "\n",
    "**Tweet:** \"#FraudNewsCNN #FNN https://t.co/WYUnHjjUjg\"\n",
    "- Retweets: 293,109\n",
    "- Sentimento: 0.000000 (Neutro)\n",
    "\n",
    "**Tweet:** \"TODAY WE MAKE AMERICA GREAT AGAIN!\"\n",
    "- Retweets: 281,289\n",
    "- Sentimento: 1.000000 (Muito positivo)\n",
    "\n",
    "**Tweet:** \"Are you allowed to impeach a president for gross incompetence?\"\n",
    "- Retweets: 237,674\n",
    "- Sentimento: 0.000000 (Neutro)\n",
    "\n",
    "**Tweet:** \"RT @SpaceX: Liftoff! https://t.co/DRBfdUM7JA\"\n",
    "- Retweets: 235,250\n",
    "- Sentimento: 0.000000 (Neutro)\n",
    "\n",
    "## Análise\n",
    "\n",
    "Entre os tweets mais retweetados, alguns são neutros (polaridade de 0.0), como o tweet sobre a \"FraudNewsCNN\" e o retweet do SpaceX.\n",
    "O tweet mais positivo é \"TODAY WE MAKE AMERICA GREAT AGAIN!\" com uma polaridade de 1.0, refletindo um tom muito positivo.\n",
    "O tweet sobre testar positivo para COVID-19 tem uma polaridade moderadamente positiva (0.284091), possivelmente devido ao tom de otimismo e unidade (\"We will get through this TOGETHER!\").\n",
    "\n",
    "Os tweets mais retweetados incluem tanto mensagens otimistas quanto declarações neutras, refletindo a diversidade de temas em suas postagens."
   ]
  },
  {
   "cell_type": "code",
   "execution_count": 14,
   "metadata": {},
   "outputs": [
    {
     "data": {
      "image/png": "[encoded data removed]",
      "text/plain": [
       "<Figure size 1000x600 with 1 Axes>"
      ]
     },
     "metadata": {},
     "output_type": "display_data"
    }
   ],
   "source": [
    "import matplotlib.pyplot as plt\n",
    "\n",
    "df['sentiment'] = df['text'].apply(lambda tweet: TextBlob(tweet).sentiment.polarity)\n",
    "\n",
    "plt.figure(figsize=(10, 6))\n",
    "df['sentiment'].hist(bins=50, edgecolor='black')\n",
    "plt.title('Distribuição de Polaridade dos Tweets de Donald Trump')\n",
    "plt.xlabel('Polaridade')\n",
    "plt.ylabel('Frequência')\n",
    "plt.show()"
   ]
  },
  {
   "cell_type": "markdown",
   "metadata": {},
   "source": [
    "A maioria dos tweets tem uma polaridade próxima de zero, indicando um sentimento neutro ou levemente polarizado. Além disso, há uma distribuição razoável de tweets com polaridades negativas e um pouco mais positivas, mostrando que os tweets variam em termos de sentimento.\n",
    "\n",
    "A análise mostra que os tweets de Donald Trump têm uma ampla variedade de sentimentos, desde neutros até muito positivos, com uma maioria de tweets neutros."
   ]
  }
 ],
 "metadata": {
  "kernelspec": {
   "display_name": "Python 3",
   "language": "python",
   "name": "python3"
  },
  "language_info": {
   "codemirror_mode": {
    "name": "ipython",
    "version": 3
   },
   "file_extension": ".py",
   "mimetype": "text/x-python",
   "name": "python",
   "nbconvert_exporter": "python",
   "pygments_lexer": "ipython3",
   "version": "3.11.9"
  }
 },
 "nbformat": 4,
 "nbformat_minor": 4
}
