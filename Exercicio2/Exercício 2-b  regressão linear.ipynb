{
 "cells": [
  {
   "cell_type": "markdown",
   "metadata": {},
   "source": [
    "## Exercício prático de regressão linear"
   ]
  },
  {
   "cell_type": "markdown",
   "metadata": {},
   "source": [
    "Instruções: Use o dataset 'datasetCarros.csv' em todos os exercícios."
   ]
  },
  {
   "cell_type": "markdown",
   "metadata": {},
   "source": [
    "# 1\n",
    "a) Faça um modelo de regressão linear simples utilizando a variável 'KmRodado' para prever a 'PrecoVenda'.<br>\n",
    "\n",
    "b) Calcule o R2 para o modelo criado."
   ]
  },
  {
   "cell_type": "code",
   "execution_count": 65,
   "metadata": {},
   "outputs": [
    {
     "name": "stdout",
     "output_type": "stream",
     "text": [
      "     Actual  Predicted\n",
      "223    8.25   4.739383\n",
      "150    0.50   4.476209\n",
      "226    5.25   4.564968\n",
      "296    9.50   4.609209\n",
      "52    18.00   4.518977\n",
      "261    5.50   4.474308\n",
      "246    3.75   4.614019\n",
      "166    0.45   4.452448\n",
      "221    4.50   4.599762\n",
      "215    4.50   4.619246\n",
      "225    2.70   4.554698\n",
      "133    0.72   4.450072\n",
      "214    5.25   4.543279\n",
      "12     7.50   4.518977\n",
      "15     7.75   4.652035\n",
      "66    19.75   4.499969\n",
      "285    7.40   4.519258\n",
      "89     4.75   4.637779\n",
      "176    0.35   4.590258\n",
      "101    1.70   4.454349\n",
      "22     4.40   4.685300\n",
      "205    5.25   4.464295\n",
      "224    5.11   4.619712\n",
      "212   11.25   4.555430\n",
      "190    0.20   4.732820\n",
      "129    0.78   4.471456\n",
      "175    0.38   4.804101\n",
      "136    0.65   4.559370\n",
      "152    0.50   4.509473\n",
      "55     3.60   4.780341\n",
      "201    3.25   4.723316\n",
      "R2 Score: -0.010229230441346049\n"
     ]
    }
   ],
   "source": [
    "import pandas as pd\n",
    "from sklearn.linear_model import LinearRegression\n",
    "from sklearn.model_selection import train_test_split\n",
    "\n",
    "df = pd.read_csv('datasetCarros.csv')\n",
    "\n",
    "X = df['KmRodado'].values.reshape(-1,1)\n",
    "y = df['PrecoVenda']\n",
    "\n",
    "X_train, X_test, y_train, y_test = train_test_split(X, y, test_size=0.1, random_state=0)\n",
    "\n",
    "model = LinearRegression()\n",
    "\n",
    "model.fit(X_train, y_train)\n",
    "\n",
    "y_pred = model.predict(X_test)\n",
    "\n",
    "results = pd.DataFrame({'Actual': y_test, 'Predicted': y_pred})\n",
    "\n",
    "print(results)\n",
    "\n",
    "r2_score = model.score(X_test, y_test)\n",
    "print(\"R2 Score:\", r2_score)\n",
    "\n"
   ]
  },
  {
   "cell_type": "markdown",
   "metadata": {},
   "source": [
    "# 2\n",
    "a) Separe o dataset em teste (5%) e treino (95%). Use o método 'train_test_split' do sklearn; configure o parâmetro random_state=10. <br>\n",
    "\n",
    "b) Treine um modelo de regressão linear múltipla no dataset de treino utilizando todas as variáveis (exceto 'Nome') para prever a 'PrecoVenda' e exiba os coeficientes do modelo.<br>\n",
    "\n",
    "c) Avalie o modelo encontrado utilizando o dataset de teste. Calcule o R2 e MSE."
   ]
  },
  {
   "cell_type": "code",
   "execution_count": 74,
   "metadata": {},
   "outputs": [
    {
     "name": "stdout",
     "output_type": "stream",
     "text": [
      "Previsões:\n",
      "     Actual  Predicted\n",
      "258    8.40   3.284120\n",
      "154    0.50   2.945450\n",
      "227    2.55   1.860774\n",
      "126    0.90   4.006189\n",
      "268    4.80   3.994957\n",
      "1      4.75   9.075474\n",
      "59    19.99  14.018360\n",
      "192    0.20  -0.390798\n",
      "131    0.75   3.292518\n",
      "259    3.90   2.928220\n",
      "170    0.40   2.242018\n",
      "282    8.25   9.415549\n",
      "294    3.75   2.929915\n",
      "163    0.45   1.525690\n",
      "222    6.00   9.410056\n",
      "92     3.51  -0.266590\n",
      "-----------------------------\n",
      "Coeficientes:\n",
      "Ano: 0.35239366336534805\n",
      "PrecoAtual: -0.0003642461238936031\n",
      "KmRodado: -5.347367885471708e-07\n",
      "Owner: -0.8476162213530857\n",
      "TipoCombustivel_CNG: -1.8164019824593653\n",
      "TipoCombustivel_Diesel: 4.16034498865931\n",
      "TipoCombustivel_Petrol: -2.343943006199945\n",
      "Trasmissao_Automatic: 2.2995230219027043\n",
      "Trasmissao_Manual: -2.2995230219027034\n",
      "-----------------------------\n",
      "Intercept: -702.1273232482253\n",
      "-----------------------------\n",
      "R2 Score: 0.6298329917862195\n",
      "MSE: 8.595268098162826\n"
     ]
    }
   ],
   "source": [
    "from sklearn.metrics import r2_score, mean_squared_error\n",
    "\n",
    "df_encoded = pd.get_dummies(df.drop(['Nome'], axis=1))\n",
    "\n",
    "X = df_encoded.drop(['PrecoVenda'], axis=1)\n",
    "y = df_encoded['PrecoVenda']\n",
    "\n",
    "X_train, X_test, y_train, y_test = train_test_split(X, y, test_size=0.05, random_state=10)\n",
    "\n",
    "model_multi = LinearRegression()\n",
    "model_multi.fit(X_train, y_train)\n",
    "\n",
    "coefficients = model_multi.coef_\n",
    "intercept = model_multi.intercept_\n",
    "\n",
    "y_pred_test = model_multi.predict(X_test)\n",
    "\n",
    "results = pd.DataFrame({'Actual': y_test, 'Predicted': y_pred_test})\n",
    "\n",
    "print(\"Previsões:\")\n",
    "print(results)\n",
    "print(\"-----------------------------\")\n",
    "\n",
    "print(\"Coeficientes:\")\n",
    "for feature, coef in zip(X_train.columns, coefficients):\n",
    "    print(f'{feature}: {coef}')\n",
    "print(\"-----------------------------\")\n",
    "\n",
    "print(f'Intercept: {intercept}')\n",
    "print(\"-----------------------------\")\n",
    "\n",
    "y_pred_test = model_multi.predict(X_test)\n",
    "\n",
    "r2_score_test = r2_score(y_test, y_pred_test)\n",
    "mse_test = mean_squared_error(y_test, y_pred_test)\n",
    "\n",
    "print(\"R2 Score:\", r2_score_test)\n",
    "print(\"MSE:\", mse_test)\n"
   ]
  }
 ],
 "metadata": {
  "kernelspec": {
   "display_name": "Python 3",
   "language": "python",
   "name": "python3"
  },
  "language_info": {
   "codemirror_mode": {
    "name": "ipython",
    "version": 3
   },
   "file_extension": ".py",
   "mimetype": "text/x-python",
   "name": "python",
   "nbconvert_exporter": "python",
   "pygments_lexer": "ipython3",
   "version": "3.11.8"
  }
 },
 "nbformat": 4,
 "nbformat_minor": 4
}
