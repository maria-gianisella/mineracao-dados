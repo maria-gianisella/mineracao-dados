{
 "cells": [
  {
   "cell_type": "markdown",
   "metadata": {},
   "source": [
    "# Regras de Associação\n",
    "Aluna: Maria Eduarda Guedes Pinto Gianisella\n"
   ]
  },
  {
   "cell_type": "markdown",
   "metadata": {},
   "source": [
    "# Exercício 1"
   ]
  },
  {
   "cell_type": "code",
   "execution_count": 29,
   "metadata": {},
   "outputs": [
    {
     "name": "stdout",
     "output_type": "stream",
     "text": [
      "('paper', 'tree'): 33.33%\n",
      "('tree', 'book'): 33.33%\n",
      "('tomato', 'pen'): 33.33%\n",
      "('pen', 'book'): 50.00%\n"
     ]
    }
   ],
   "source": [
    "from itertools import combinations\n",
    "\n",
    "transacoes = [\n",
    "    ['tree', 'cup', 'paper'],\n",
    "    ['book', 'tomato', 'pen'],\n",
    "    ['pen', 'book', 'tree'],\n",
    "    ['tomato', 'pen', 'cup'],\n",
    "    ['tree', 'paper', 'book'],\n",
    "    ['pen', 'book']\n",
    "]\n",
    "\n",
    "def calcular_suporte(conjunto, transacoes):\n",
    "    return sum(1 for t in transacoes if set(conjunto).issubset(t)) / len(transacoes) * 100\n",
    "\n",
    "itens_distintos = set(item for transacao in transacoes for item in transacao)\n",
    "\n",
    "conjuntos_suporte = {conjunto: calcular_suporte(conjunto, transacoes) for tamanho in range(2, len(itens_distintos) + 1) for conjunto in combinations(itens_distintos, tamanho) if calcular_suporte(conjunto, transacoes) >= 33}\n",
    "\n",
    "for conjunto, suporte in conjuntos_suporte.items():\n",
    "    print(f\"{conjunto}: {suporte:.2f}%\")\n"
   ]
  },
  {
   "cell_type": "markdown",
   "metadata": {},
   "source": [
    "# Exercício 2"
   ]
  },
  {
   "cell_type": "code",
   "execution_count": 33,
   "metadata": {},
   "outputs": [
    {
     "name": "stdout",
     "output_type": "stream",
     "text": [
      "Regras com confiança >= 73%\n",
      "2 -> {3} : 75.00%\n",
      "2 -> {5} : 75.00%\n",
      "3 -> {5} : 80.00%\n",
      "5 -> {3} : 80.00%\n",
      "7 -> {3} : 100.00%\n"
     ]
    }
   ],
   "source": [
    "from collections import defaultdict\n",
    "\n",
    "def gerar_regras(transacoes, confianca_minima, numeros_alvo):\n",
    "    regras = defaultdict(list)\n",
    "    itens_distintos = set(item for transacao in transacoes for item in transacao)\n",
    "    \n",
    "    suportes_individuais = {item: calcular_suporte({item}, transacoes) for item in itens_distintos}\n",
    "    \n",
    "    for tamanho in range(2, len(itens_distintos) + 1):\n",
    "        for conjunto in combinations(itens_distintos, tamanho):\n",
    "            if set(conjunto).issubset(numeros_alvo):\n",
    "                suporte_conjunto = calcular_suporte(set(conjunto), transacoes)\n",
    "                for item in conjunto:\n",
    "                    confianca = suporte_conjunto / suportes_individuais[item]\n",
    "                    if confianca >= confianca_minima:\n",
    "                        regras[item].append((set(conjunto) - {item}, confianca))\n",
    "    \n",
    "    return regras\n",
    "\n",
    "def imprimir_regras(regras_geradas):\n",
    "    print(\"Regras com confiança >= 73%\")\n",
    "    for item, regras in regras_geradas.items():\n",
    "        for regra in regras:\n",
    "            print(f\"{item} -> {regra[0]} : {regra[1]*100:.2f}%\")\n",
    "\n",
    "transacoes = [\n",
    "    {1, 3, 5, 7, 8},\n",
    "    {3, 4, 5, 7},\n",
    "    {2, 3, 5, 6},\n",
    "    {2, 4, 5, 8, 9},\n",
    "    {2, 3, 5, 11},\n",
    "    {1, 2, 3, 7, 9}\n",
    "]\n",
    "\n",
    "numeros_alvo = {2, 3, 5, 7}\n",
    "confianca_minima = 0.73\n",
    "\n",
    "regras_geradas = gerar_regras(transacoes, confianca_minima, numeros_alvo)\n",
    "imprimir_regras(regras_geradas)"
   ]
  },
  {
   "cell_type": "markdown",
   "metadata": {},
   "source": [
    "# Exercício 3"
   ]
  },
  {
   "cell_type": "code",
   "execution_count": 41,
   "metadata": {},
   "outputs": [
    {
     "name": "stdout",
     "output_type": "stream",
     "text": [
      "Regras que contêm 'bottled beer' no consequente:\n",
      "Regra: liquor -> bottled beer | Suporte: 0.0047 | Confiança: 0.4220 | Lift: 5.2406\n",
      "Regra: red/blush wine -> bottled beer | Suporte: 0.0049 | Confiança: 0.2540 | Lift: 3.1538\n",
      "Regra: tea -> bottled beer | Suporte: 0.0011 | Confiança: 0.2895 | Lift: 3.5947\n",
      "Regra: bottled water, herbs -> bottled beer | Suporte: 0.0012 | Confiança: 0.4000 | Lift: 4.9672\n",
      "Regra: oil, bottled water -> bottled beer | Suporte: 0.0012 | Confiança: 0.2927 | Lift: 3.6345\n",
      "Regra: bottled water, sugar -> bottled beer | Suporte: 0.0012 | Confiança: 0.2553 | Lift: 3.1705\n",
      "Regra: onions, butter -> bottled beer | Suporte: 0.0010 | Confiança: 0.2500 | Lift: 3.1045\n",
      "Regra: liquor, red/blush wine -> bottled beer | Suporte: 0.0019 | Confiança: 0.9048 | Lift: 11.2353\n",
      "Regra: liquor, soda -> bottled beer | Suporte: 0.0012 | Confiança: 0.5714 | Lift: 7.0960\n",
      "Regra: other vegetables, red/blush wine -> bottled beer | Suporte: 0.0015 | Confiança: 0.3061 | Lift: 3.8014\n",
      "Regra: red/blush wine, soda -> bottled beer | Suporte: 0.0016 | Confiança: 0.3556 | Lift: 4.4153\n",
      "Regra: roll products , whole milk -> bottled beer | Suporte: 0.0011 | Confiança: 0.2683 | Lift: 3.3316\n",
      "Regra: soups, whole milk -> bottled beer | Suporte: 0.0011 | Confiança: 0.3793 | Lift: 4.7102\n",
      "Regra: citrus fruit, bottled water, whole milk -> bottled beer | Suporte: 0.0016 | Confiança: 0.2759 | Lift: 3.4256\n",
      "Regra: domestic eggs, bottled water, other vegetables -> bottled beer | Suporte: 0.0012 | Confiança: 0.3000 | Lift: 3.7254\n",
      "Regra: sausage, bottled water, soda -> bottled beer | Suporte: 0.0011 | Confiança: 0.2750 | Lift: 3.4149\n"
     ]
    }
   ],
   "source": [
    "import pandas as pd\n",
    "from mlxtend.preprocessing import TransactionEncoder\n",
    "from mlxtend.frequent_patterns import apriori, association_rules\n",
    "\n",
    "with open('supermercado.csv', 'r') as arquivo:\n",
    "    data = arquivo.readlines()\n",
    "\n",
    "transacoes = [linha.strip().split(',') for linha in data]\n",
    "transacoes = [[str(item) for item in transaction] for transaction in transacoes]\n",
    "\n",
    "te = TransactionEncoder()\n",
    "te_array = te.fit(transacoes).transform(transacoes)\n",
    "\n",
    "df_codificado = pd.DataFrame(te_array, columns=te.columns_)\n",
    "\n",
    "itemsets_frequentes = apriori(df_codificado, min_support=0.001, use_colnames=True)\n",
    "regras = association_rules(itemsets_frequentes, metric='confidence', min_threshold=0.25)\n",
    "regras_bottled_beer = regras[regras['consequents'].apply(lambda x: 'bottled beer' in str(x))]\n",
    "\n",
    "print(\"Regras que contêm 'bottled beer' no consequente:\")\n",
    "for indice, linha in regras_bottled_beer.iterrows():\n",
    "    antecedentes = ', '.join(list(linha['antecedents']))\n",
    "    consequentes = ', '.join(list(linha['consequents']))\n",
    "    print(f\"Regra: {antecedentes} -> {consequentes} | Suporte: {linha['support']:.4f} | Confiança: {linha['confidence']:.4f} | Lift: {linha['lift']:.4f}\")\n"
   ]
  },
  {
   "cell_type": "markdown",
   "metadata": {},
   "source": [
    "# Avaliação dos resultados\n",
    "\n",
    "Analisando todas as regras de associação geradas a partir dos dados, é possível observar que as regras de associação revelam padrões de compra dos clientes em um supermercado. Elas oferecem oportunidades de decidir como distribuir os produtos nas prateleiras, por exemplo. Ao compreender essas regras, os mercados podem personalizar ofertas e tomar decisões estratégicas para impulsionar as vendas e melhorar a experiência do cliente.\n",
    "\n",
    "As regras que se destacam são:\n",
    "\n",
    "**liquor, red/blush wine -> bottled beer**\n",
    "\n",
    "Alta confiança e lift, indicando uma forte associação entre a compra de licor, vinho tinto/rosé e cerveja engarrafada.\n",
    "\n",
    "**red/blush wine -> bottled beer** e **liquor -> bottled beer**\n",
    "\n",
    "Embora tenham uma confiança um pouco menor do que a regra que associa os três intens, ainda indica uma associação relevante entre a compra de vinho tinto/rosé e cerveja engarrafada ou de licor e cerveja engarrafada.\n",
    "\n",
    "**liquor, soda -> bottled beer**\n",
    "\n",
    "Também indica uma associação alta entre a compra de licor, soda e cerveja engarrafada juntos. Pode indicar que o cliente planeja preparar drinks ou quer fazer uma compra diversificada de bebidas com uma opção não alcóolica.\n",
    "\n",
    "**bottled water, herbs -> bottled beer**\n",
    "\n",
    "Esta regra associa a compra de água engarrafada e ervas com a compra de cerveja engarrafada. Pode indicar padrões de compra específicos para clientes que planejam cozinhar em casa e acompanhar a refeição com uma bebida alcoólica.\n",
    "\n",
    "**citrus fruit, bottled water, whole milk -> bottled beer**\n",
    "\n",
    "Esta regra destaca uma combinação de itens que inclui frutas cítricas, água engarrafada, leite integral e cerveja engarrafada. Isso sugere que os clientes estão planejando uma refeição completa e incluem uma bebida alcoólica como parte dela."
   ]
  }
 ],
 "metadata": {
  "kernelspec": {
   "display_name": "Python 3",
   "language": "python",
   "name": "python3"
  },
  "language_info": {
   "codemirror_mode": {
    "name": "ipython",
    "version": 3
   },
   "file_extension": ".py",
   "mimetype": "text/x-python",
   "name": "python",
   "nbconvert_exporter": "python",
   "pygments_lexer": "ipython3",
   "version": "3.11.9"
  }
 },
 "nbformat": 4,
 "nbformat_minor": 2
}
